{
 "cells": [
  {
   "cell_type": "code",
   "execution_count": 8,
   "id": "ec91ea93",
   "metadata": {},
   "outputs": [
    {
     "data": {
      "text/plain": [
       "<sqlite3.Cursor at 0x190a6fdf340>"
      ]
     },
     "execution_count": 8,
     "metadata": {},
     "output_type": "execute_result"
    }
   ],
   "source": [
    "import sqlite3\n",
    "\n",
    "# create a SQLite database for users\n",
    "conn = sqlite3.connect('users.db')\n",
    "cursor = conn.cursor()\n",
    "cursor.execute('CREATE TABLE IF NOT EXISTS users (userid INTEGER PRIMARY KEY AUTOINCREMENT, username TEXT NOT NULL, password TEXT NOT NULL, score INTEGER)')\n"
   ]
  },
  {
   "cell_type": "code",
   "execution_count": 9,
   "id": "de624647",
   "metadata": {},
   "outputs": [],
   "source": [
    "#questions for the quiz\n",
    "quiz_questions = {\n",
    "    \"What is the capital of France?\": \"Paris\",\n",
    "    \"What is the largest planet in our solar system?\": \"Jupiter\",\n",
    "    \"Who painted the Mona Lisa?\": \"Leonardo da Vinci\",\n",
    "    \"What is the smallest country in the world?\": \"Vatican City\",\n",
    "    \"What is the currency of Japan?\": \"Yen\",\n",
    "    \"What is the highest mountain in Africa?\": \"Mount Kilimanjaro\",\n",
    "    \"What is the symbol for the element oxygen?\": \"O\",\n",
    "    \"What is the only continent that lies entirely in the southern hemisphere?\": \"Antarctica\",\n",
    "    \"Who wrote the novel 'To Kill a Mockingbird'?\": \"Harper Lee\",\n",
    "    \"What is the boiling point of water in degrees Celsius?\": \"100\"\n",
    "}"
   ]
  },
  {
   "cell_type": "code",
   "execution_count": 10,
   "id": "0a620ef7",
   "metadata": {},
   "outputs": [],
   "source": [
    "#function that takes the quiz and  gives the score of users\n",
    "def take_quiz(quiz_questions):\n",
    "    score = 0\n",
    "    for question, answer in quiz_questions.items():\n",
    "        user_answer = input(question + \" \")\n",
    "        if user_answer.lower() == answer.lower():\n",
    "            print(\"Correct!\")\n",
    "            score += 1\n",
    "        else:\n",
    "            print(\"Incorrect. The correct answer is:\", answer)\n",
    "    print(\"Quiz complete! You scored\", score, \"out of\", len(quiz_questions))\n"
   ]
  },
  {
   "cell_type": "code",
   "execution_count": 11,
   "id": "9f397d20",
   "metadata": {},
   "outputs": [],
   "source": [
    "def register():\n",
    "    # Prompt the user for registration information\n",
    "    username = input(\"Enter a username: \")\n",
    "    password = input(\"Enter a password: \")\n",
    "    score = 0\n",
    "\n",
    "    # Insert the user's information into the database\n",
    "    insert_query = \"INSERT INTO users (username, password, score) VALUES (?, ?, ?)\"\n",
    "    cursor.execute(insert_query, (username, password, score))\n",
    "\n",
    "    # Commit the changes to the database\n",
    "    conn.commit()\n",
    "\n",
    "    # Prompt the user to take the quiz or logout\n",
    "    while True:\n",
    "        action = input(\"Enter '1' to take the quiz or '2' to exit: \")\n",
    "        if action == \"1\":\n",
    "            take_quiz(quiz_questions)\n",
    "            # Update the user's score in the database\n",
    "            update_query = \"UPDATE users SET score = ? WHERE username = ?\"\n",
    "            cursor.execute(update_query, (score, username))\n",
    "            conn.commit()\n",
    "            select_query = \"SELECT * FROM users WHERE username = ? AND password = ?\"\n",
    "            cursor.execute(select_query, (username, password))\n",
    "            user = cursor.fetchone()\n",
    "            select_all_query = \"SELECT * FROM users ORDER BY score DESC\"\n",
    "            cursor.execute(select_all_query)\n",
    "            all_users = cursor.fetchall()\n",
    "            user_rank = all_users.index(user) + 1\n",
    "            print(\"Your score is:\", user[3]+1)\n",
    "            print(\"Your rank is:\", user_rank)\n",
    "        elif action == \"2\":\n",
    "            print(\"THANK YOU!\")\n",
    "            break\n",
    "        else:\n",
    "            print(\"Invalid action. Please enter 'quiz' or 'logout'.\")"
   ]
  },
  {
   "cell_type": "code",
   "execution_count": 12,
   "id": "a7d42109",
   "metadata": {},
   "outputs": [],
   "source": [
    "def login():\n",
    "    # Prompt the user to login\n",
    "    username = input(\"Enter your username: \")\n",
    "    password = input(\"Enter your password: \")\n",
    "\n",
    "    # Check if the user exists in the database\n",
    "    select_query = \"SELECT * FROM users WHERE username = ? AND password = ?\"\n",
    "    cursor.execute(select_query, (username, password))\n",
    "    user = cursor.fetchone()\n",
    "\n",
    "    if user:\n",
    "        # User exists, check if they have already taken the quiz\n",
    "        if user[3] != 0:\n",
    "            # User has already taken the quiz, show their score and rank\n",
    "            select_all_query = \"SELECT * FROM users ORDER BY score DESC\"\n",
    "            cursor.execute(select_all_query)\n",
    "            all_users = cursor.fetchall()\n",
    "            user_rank = all_users.index(user) + 1\n",
    "            print(\"Your score is:\", user[3])\n",
    "            print(\"Your rank is:\", user_rank)\n",
    "        else:\n",
    "            # User has not taken the quiz, prompt them to take it\n",
    "            take_quiz(quiz_questions)\n",
    "            # Update the user's score in the database\n",
    "            update_query = \"UPDATE users SET score = ? WHERE username = ?\"\n",
    "            cursor.execute(update_query, (score, username))\n",
    "            conn.commit()\n",
    "    else:\n",
    "        # User does not exist in the database\n",
    "        print(\"Invalid login.\")"
   ]
  },
  {
   "cell_type": "code",
   "execution_count": null,
   "id": "87908fc4",
   "metadata": {},
   "outputs": [
    {
     "name": "stdout",
     "output_type": "stream",
     "text": [
      "Enter 'l' to login, 'r' to register, or 'e' to exit: r\n",
      "Enter a username: m,ahesh\n",
      "Enter a password: modem\n",
      "Enter '1' to take the quiz or '2' to exit: 1\n",
      "What is the capital of France? ds\n",
      "Incorrect. The correct answer is: Paris\n",
      "What is the largest planet in our solar system? dsf\n",
      "Incorrect. The correct answer is: Jupiter\n",
      "Who painted the Mona Lisa? sedfe\n",
      "Incorrect. The correct answer is: Leonardo da Vinci\n",
      "What is the smallest country in the world? vatican city\n",
      "Correct!\n",
      "What is the currency of Japan? dhs\n",
      "Incorrect. The correct answer is: Yen\n",
      "What is the highest mountain in Africa? saf\n",
      "Incorrect. The correct answer is: Mount Kilimanjaro\n",
      "What is the symbol for the element oxygen? sf\n",
      "Incorrect. The correct answer is: O\n",
      "What is the only continent that lies entirely in the southern hemisphere? fs\n",
      "Incorrect. The correct answer is: Antarctica\n",
      "Who wrote the novel 'To Kill a Mockingbird'? as\n",
      "Incorrect. The correct answer is: Harper Lee\n",
      "What is the boiling point of water in degrees Celsius? sf\n",
      "Incorrect. The correct answer is: 100\n",
      "Quiz complete! You scored 1 out of 10\n",
      "Your score is: 0\n",
      "Your rank is: 4\n",
      "Enter '1' to take the quiz or '2' to exit: 2\n",
      "THANK YOU!\n",
      "Enter 'l' to login, 'r' to register, or 'e' to exit: l\n",
      "Enter your username: m,ahesh\n",
      "Enter your password: modem\n"
     ]
    }
   ],
   "source": [
    "while True:\n",
    "    action = input(\"Enter 'l' to login, 'r' to register, or 'e' to exit: \")\n",
    "    if action == \"l\":\n",
    "        login()\n",
    "    elif action == \"r\":\n",
    "        register()\n",
    "    elif action == \"e\":\n",
    "        print(\"SEE YOU AGAIN...!\")\n",
    "        break\n",
    "    else:\n",
    "        print(\"Invalid action. Please enter 'login', 'register', or 'quit'.\")\n",
    "conn.close()\n"
   ]
  },
  {
   "cell_type": "code",
   "execution_count": null,
   "id": "006cd285",
   "metadata": {},
   "outputs": [],
   "source": []
  }
 ],
 "metadata": {
  "kernelspec": {
   "display_name": "Python 3 (ipykernel)",
   "language": "python",
   "name": "python3"
  },
  "language_info": {
   "codemirror_mode": {
    "name": "ipython",
    "version": 3
   },
   "file_extension": ".py",
   "mimetype": "text/x-python",
   "name": "python",
   "nbconvert_exporter": "python",
   "pygments_lexer": "ipython3",
   "version": "3.10.6"
  }
 },
 "nbformat": 4,
 "nbformat_minor": 5
}
